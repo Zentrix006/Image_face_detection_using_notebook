{
 "cells": [
  {
   "cell_type": "code",
   "execution_count": 125,
   "id": "3bafdd46-8386-4a6e-abe0-83ffe344b064",
   "metadata": {},
   "outputs": [],
   "source": [
    "import cv2 as cv2\n",
    "import numpy as np\n",
    "from matplotlib import pyplot as plt"
   ]
  },
  {
   "cell_type": "code",
   "execution_count": 126,
   "id": "dfdcaaa8-3f94-4120-9b5a-2118be54e8fe",
   "metadata": {
    "scrolled": true
   },
   "outputs": [
    {
     "data": {
      "text/plain": [
       "array([[[ 97, 107, 125],\n",
       "        [ 97, 107, 125],\n",
       "        [ 97, 107, 125],\n",
       "        ...,\n",
       "        [129, 143, 161],\n",
       "        [129, 143, 161],\n",
       "        [127, 141, 159]],\n",
       "\n",
       "       [[ 98, 108, 126],\n",
       "        [ 96, 106, 124],\n",
       "        [ 97, 107, 125],\n",
       "        ...,\n",
       "        [134, 149, 165],\n",
       "        [134, 149, 165],\n",
       "        [133, 148, 164]],\n",
       "\n",
       "       [[ 98, 108, 126],\n",
       "        [ 98, 108, 126],\n",
       "        [ 97, 107, 125],\n",
       "        ...,\n",
       "        [138, 154, 166],\n",
       "        [138, 154, 166],\n",
       "        [137, 153, 165]],\n",
       "\n",
       "       ...,\n",
       "\n",
       "       [[ 74,  81,  98],\n",
       "        [ 74,  81,  98],\n",
       "        [ 74,  81,  98],\n",
       "        ...,\n",
       "        [137, 149, 161],\n",
       "        [135, 147, 159],\n",
       "        [134, 146, 158]],\n",
       "\n",
       "       [[ 74,  81,  98],\n",
       "        [ 74,  81,  98],\n",
       "        [ 74,  81,  98],\n",
       "        ...,\n",
       "        [137, 149, 161],\n",
       "        [135, 147, 159],\n",
       "        [134, 146, 158]],\n",
       "\n",
       "       [[ 74,  81,  98],\n",
       "        [ 74,  81,  98],\n",
       "        [ 74,  81,  98],\n",
       "        ...,\n",
       "        [136, 148, 160],\n",
       "        [135, 147, 159],\n",
       "        [134, 146, 158]]], dtype=uint8)"
      ]
     },
     "execution_count": 126,
     "metadata": {},
     "output_type": "execute_result"
    }
   ],
   "source": [
    "image_path = 'C:/Users/afx14/Downloads/Image.jpg'\n",
    "image1 = cv2.imread(image_path)\n",
    "image = cv2.resize(image1, (600, 600))\n",
    "image\n"
   ]
  },
  {
   "cell_type": "code",
   "execution_count": 127,
   "id": "5cccd984-b68a-4611-b905-ee7f02cad10b",
   "metadata": {},
   "outputs": [],
   "source": [
    "gray = cv2.cvtColor(image, cv2.COLOR_BGR2GRAY)"
   ]
  },
  {
   "cell_type": "code",
   "execution_count": 128,
   "id": "37ad52ac-665e-411c-9e45-d672e5b80ac5",
   "metadata": {},
   "outputs": [],
   "source": [
    "face_cascade = cv2.CascadeClassifier(cv2.data.haarcascades + 'haarcascade_frontalface_default.xml')"
   ]
  },
  {
   "cell_type": "code",
   "execution_count": 129,
   "id": "90e6a9e1-2ae9-4eab-b469-507e045e00d4",
   "metadata": {},
   "outputs": [],
   "source": [
    "faces = face_cascade.detectMultiScale(gray, scaleFactor=1.1, minNeighbors=5)"
   ]
  },
  {
   "cell_type": "code",
   "execution_count": 130,
   "id": "41da1843-37b8-4418-9d37-da31443cc79c",
   "metadata": {},
   "outputs": [],
   "source": [
    "for (x, y, w, h) in faces:\n",
    "    cv2.rectangle(image, (x, y), (x+w, y+h), (0, 255, 0), 2)"
   ]
  },
  {
   "cell_type": "code",
   "execution_count": 131,
   "id": "aedf4685-5638-4990-ac2b-766ffa4f5549",
   "metadata": {},
   "outputs": [],
   "source": [
    "cv2.imshow('Face Detection', image)\n",
    "cv2.waitKey(0)\n",
    "cv2.destroyAllWindows()"
   ]
  }
 ],
 "metadata": {
  "kernelspec": {
   "display_name": "Python 3 (ipykernel)",
   "language": "python",
   "name": "python3"
  },
  "language_info": {
   "codemirror_mode": {
    "name": "ipython",
    "version": 3
   },
   "file_extension": ".py",
   "mimetype": "text/x-python",
   "name": "python",
   "nbconvert_exporter": "python",
   "pygments_lexer": "ipython3",
   "version": "3.12.4"
  }
 },
 "nbformat": 4,
 "nbformat_minor": 5
}
